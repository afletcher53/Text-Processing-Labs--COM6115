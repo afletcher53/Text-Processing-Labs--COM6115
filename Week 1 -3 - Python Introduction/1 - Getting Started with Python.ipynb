{
 "cells": [
  {
   "cell_type": "code",
   "execution_count": 2,
   "metadata": {},
   "outputs": [
    {
     "name": "stdout",
     "output_type": "stream",
     "text": [
      "Please input Float\n",
      "Please input Float\n",
      "Your miles as kilometers are 3.2\n",
      "Your miles as kilometers are 3.2\n",
      "Please input Float\n",
      "Please input Float\n",
      "Please input Float\n",
      "Please input Float\n",
      "Please input Float\n",
      "Please input Float\n",
      "Please input Float\n",
      "Please input Float\n"
     ]
    }
   ],
   "source": [
    "def convert_distances(miles:float)->float:\n",
    "    kilometer:float = (miles * 8.0) / 5.0\n",
    "    return kilometer\n",
    "\n",
    "while True:\n",
    "    try:\n",
    "        s = float(input('What miles do you want to convert to kilometers?'))\n",
    "    except ValueError:\n",
    "        print('Please input your kilometers as a float')\n",
    "        continue\n",
    "    else:\n",
    "        print(f'Your miles as kilometers are {convert_distances(s)}')\n",
    "        break"
   ]
  },
  {
   "cell_type": "markdown",
   "metadata": {},
   "source": [
    "Convert Distance Function"
   ]
  }
 ],
 "metadata": {
  "kernelspec": {
   "display_name": "Python 3",
   "language": "python",
   "name": "python3"
  },
  "language_info": {
   "codemirror_mode": {
    "name": "ipython",
    "version": 3
   },
   "file_extension": ".py",
   "mimetype": "text/x-python",
   "name": "python",
   "nbconvert_exporter": "python",
   "pygments_lexer": "ipython3",
   "version": "3.10.12"
  },
  "orig_nbformat": 4
 },
 "nbformat": 4,
 "nbformat_minor": 2
}
